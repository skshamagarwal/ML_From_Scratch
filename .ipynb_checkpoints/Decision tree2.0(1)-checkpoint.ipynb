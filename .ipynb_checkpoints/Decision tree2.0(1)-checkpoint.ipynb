{
 "cells": [
  {
   "cell_type": "code",
   "execution_count": 1,
   "id": "c196180d",
   "metadata": {},
   "outputs": [],
   "source": [
    "import csv\n",
    "import random\n",
    "import pandas as pd\n",
    "import numpy as np"
   ]
  },
  {
   "cell_type": "code",
   "execution_count": 2,
   "id": "7a6151f3",
   "metadata": {
    "scrolled": true
   },
   "outputs": [],
   "source": [
    "def difftables(dataset,rows,coloums,target):#bootstrap and subspacing\n",
    "    td = pd.read_csv(dataset)\n",
    "    tot_no_rows = len(td.index)\n",
    "    tot_no_col = len(td.columns)\n",
    "    rows = np.random.randint(tot_no_rows, size=(rows))#bootstraping\n",
    "    index = np.random.randint(tot_no_col-1, size=(coloums))\n",
    "    return td.iloc[rows,list(index)].join(td.iloc[rows,[target]])\n"
   ]
  },
  {
   "cell_type": "code",
   "execution_count": 3,
   "id": "207b7dc8",
   "metadata": {},
   "outputs": [],
   "source": [
    "class HelperFunctions:\n",
    "    def __init__(self):\n",
    "        pass\n",
    "    \n",
    "    \"\"\"Find the unique values for a column in a dataset.\"\"\"\n",
    "    def unique_vals(self, rows, col):\n",
    "        return set([row[col] for row in rows])\n",
    "    \n",
    "    \"\"\"Count No of each Unique Val for the prediction.\"\"\"\n",
    "    def class_counts(self, rows):\n",
    "        counts = {}\n",
    "        for row in rows:\n",
    "            label = row[-1]\n",
    "            if label not in counts:\n",
    "                counts[label] = 0\n",
    "            counts[label] += 1\n",
    "        return counts\n",
    "    \n",
    "    \"\"\"Check whether a value is numeric or not\"\"\"\n",
    "    def is_numeric(self, value):\n",
    "        return isinstance(value, int) or isinstance(value, float)\n",
    "    \n",
    "    def partition(self, rows, question):\n",
    "        \"\"\"\n",
    "        Partitions a dataset. For each row in the dataset, \n",
    "        check if it matches the question. If so, add it to \n",
    "        'true rows', otherwise, add it to 'false rows'.\n",
    "        \"\"\"\n",
    "        true_rows, false_rows = [], []\n",
    "        for row in rows:\n",
    "            if question.match(row):\n",
    "                true_rows.append(row)\n",
    "            else:\n",
    "                false_rows.append(row)\n",
    "        return true_rows, false_rows"
   ]
  },
  {
   "cell_type": "code",
   "execution_count": 15,
   "id": "64e54dba",
   "metadata": {},
   "outputs": [],
   "source": [
    "class Question:\n",
    "    \"\"\"A Question is used to partition a dataset.\"\"\"\n",
    "\n",
    "    def __init__(self, column, value, unique_count = None):\n",
    "        self.column = column\n",
    "        self.value = value\n",
    "        self.unique_count = helper.unique_vals(training_data, column)\n",
    "\n",
    "    def match(self, example):\n",
    "        val = example[self.column]\n",
    "        if len(self.unique_count)<=10:\n",
    "            return val == self.value\n",
    "        else:\n",
    "            return val >= self.value\n",
    "\n",
    "    def __repr__(self):\n",
    "        # Printing the question in a readable format.\n",
    "        condition = \"==\"\n",
    "        if len(self.unique_count)>10:\n",
    "            condition = \">=\"\n",
    "        return \"if %s %s %s:\" % (\n",
    "            header[self.column], condition, str(self.value))"
   ]
  },
  {
   "cell_type": "code",
   "execution_count": 5,
   "id": "c4cd5ec1",
   "metadata": {},
   "outputs": [],
   "source": [
    "def gini(rows):\n",
    "    counts = helper.class_counts(rows)\n",
    "    impurity = 1\n",
    "    for lbl in counts:\n",
    "        prob_of_lbl = counts[lbl] / float(len(rows))\n",
    "        impurity -= prob_of_lbl**2\n",
    "    return impurity\n",
    "\n",
    "def info_gain(left, right, current_uncertainty):\n",
    "    \"\"\"Information Gain.\n",
    "\n",
    "    The uncertainty of the starting node, minus the weighted impurity of\n",
    "    two child nodes.\n",
    "    \"\"\"\n",
    "    p = float(len(left)) / (len(left) + len(right))\n",
    "    return current_uncertainty - p * gini(left) - (1 - p) * gini(right)"
   ]
  },
  {
   "cell_type": "code",
   "execution_count": 6,
   "id": "82fdfe03",
   "metadata": {},
   "outputs": [],
   "source": [
    "def find_best_split(rows):\n",
    "    \"\"\"Find the best question to ask by iterating over every feature / value\n",
    "    and calculating the information gain.\"\"\"\n",
    "    \n",
    "    best_gain = 0  # keep track of the best information gain\n",
    "    best_question = None  # keep train of the feature / value that produced it\n",
    "    current_uncertainty = gini(rows)\n",
    "    n_features = len(rows[0]) - 1  # number of columns\n",
    "\n",
    "    for col in range(n_features):  # for each feature\n",
    "\n",
    "        values = set([row[col] for row in rows])  # unique values in the column\n",
    "\n",
    "        for val in values:  # for each value\n",
    "\n",
    "            question = Question(col, val)\n",
    "\n",
    "            # try splitting the dataset\n",
    "            true_rows, false_rows = helper.partition(rows, question)\n",
    "\n",
    "            # Skip this split if it doesn't divide the\n",
    "            # dataset.\n",
    "            if len(true_rows) == 0 or len(false_rows) == 0:\n",
    "                continue\n",
    "\n",
    "            # Calculate the information gain from this split\n",
    "            gain = info_gain(true_rows, false_rows, current_uncertainty)\n",
    "\n",
    "            if gain > best_gain:\n",
    "                best_gain, best_question = gain, question\n",
    "\n",
    "    return best_gain, best_question"
   ]
  },
  {
   "cell_type": "code",
   "execution_count": 7,
   "id": "b6a5bc1c",
   "metadata": {},
   "outputs": [],
   "source": [
    "class Leaf:\n",
    "    def __init__(self, rows):\n",
    "        self.predictions = helper.class_counts(rows)"
   ]
  },
  {
   "cell_type": "code",
   "execution_count": 8,
   "id": "ee60a1c2",
   "metadata": {},
   "outputs": [],
   "source": [
    "class Decision_Node:\n",
    "    \"\"\"\n",
    "    A Decision Node asks a question.\n",
    "    This holds a reference to the question, \n",
    "    and to the two child nodes.\n",
    "    \"\"\"\n",
    "\n",
    "    def __init__(self, question, true_branch, false_branch):\n",
    "        self.question = question\n",
    "        self.true_branch = true_branch\n",
    "        self.false_branch = false_branch"
   ]
  },
  {
   "cell_type": "code",
   "execution_count": 9,
   "id": "7c095954",
   "metadata": {},
   "outputs": [],
   "source": [
    "def build_tree(rows):\n",
    "    # Try partitioing the dataset on each of the unique attribute,\n",
    "    # calculate the information gain,\n",
    "    # and return the question that produces the highest gain.\n",
    "    gain, question = find_best_split(rows)\n",
    "\n",
    "    # Base case: no further info gain, we'll return a leaf.\n",
    "    if gain == 0:\n",
    "        return Leaf(rows)\n",
    "\n",
    "    # If we reach here, we have found a useful feature / value\n",
    "    # to partition on.\n",
    "    true_rows, false_rows = helper.partition(rows, question)\n",
    "\n",
    "    # Recursively build the true branch.\n",
    "    true_branch = build_tree(true_rows)\n",
    "\n",
    "    # Recursively build the false branch.\n",
    "    false_branch = build_tree(false_rows)\n",
    "\n",
    "    # Return a Question node.\n",
    "    # This records the best feature / value to ask at this point,\n",
    "    # as well as the branches to follow\n",
    "    # dependingo on the answer.\n",
    "    return Decision_Node(question, true_branch, false_branch)"
   ]
  },
  {
   "cell_type": "code",
   "execution_count": 10,
   "id": "e5d58406",
   "metadata": {},
   "outputs": [],
   "source": [
    "# def print_tree(node, spacing=\"\"):\n",
    "#     # Base case: we've reached a leaf\n",
    "#     if isinstance(node, Leaf):\n",
    "#         print (spacing + \"Predict\", node.predictions)\n",
    "#         return\n",
    "\n",
    "#     # Print the question at this node\n",
    "#     print (spacing + str(node.question))\n",
    "\n",
    "#     # Call this function recursively on the true branch\n",
    "#     print (spacing + '--> True:')\n",
    "#     print_tree(node.true_branch, spacing + \"    \")\n",
    "\n",
    "#     # Call this function recursively on the false branch\n",
    "#     print (spacing + '--> False:')\n",
    "#     print_tree(node.false_branch, spacing + \"    \")"
   ]
  },
  {
   "cell_type": "code",
   "execution_count": 10,
   "id": "0cef4c27",
   "metadata": {},
   "outputs": [],
   "source": [
    "def print_tree(node, spacing=\"\"):\n",
    "    # Base case: we've reached a leaf\n",
    "    if isinstance(node, Leaf):\n",
    "        print (spacing + \"Predict\", node.predictions)\n",
    "        return\n",
    "\n",
    "    # Print the question at this node\n",
    "    print (spacing + str(node.question))\n",
    "\n",
    "    # Call this function recursively on the true branch\n",
    "    print (spacing + '--> True:')\n",
    "    print_tree(node.true_branch, spacing + \"    \")\n",
    "\n",
    "    # Call this function recursively on the false branch\n",
    "    print (spacing + '--> False:')\n",
    "    print_tree(node.false_branch, spacing + \"    \")"
   ]
  },
  {
   "cell_type": "code",
   "execution_count": 11,
   "id": "7736aa89",
   "metadata": {},
   "outputs": [],
   "source": [
    "def classify(row, node):\n",
    "    # Base case: we've reached a leaf\n",
    "    if isinstance(node, Leaf):\n",
    "        return node.predictions\n",
    "\n",
    "    # Decide whether to follow the true-branch or the false-branch.\n",
    "    # Compare the feature / value stored in the node,\n",
    "    # to the example we're considering.\n",
    "    if node.question.match(row):\n",
    "        return classify(row, node.true_branch)\n",
    "    else:\n",
    "        return classify(row, node.false_branch)"
   ]
  },
  {
   "cell_type": "code",
   "execution_count": 12,
   "id": "72331a3c",
   "metadata": {},
   "outputs": [],
   "source": [
    "def print_leaf(counts):\n",
    "    \"\"\"A nicer way to print the predictions at a leaf.\"\"\"\n",
    "    total = sum(counts.values()) * 1.0\n",
    "    probs = {}\n",
    "    for lbl in counts.keys():\n",
    "        probs[lbl] = str(int(counts[lbl] / total * 100))\n",
    "    return probs"
   ]
  },
  {
   "cell_type": "code",
   "execution_count": 13,
   "id": "b8c76d86",
   "metadata": {},
   "outputs": [],
   "source": [
    "\"\"\"Accuracy of the Model on scale 0 to 1\"\"\"\n",
    "def accuracy(y_true,y_pred,normalize=True):\n",
    "    accuracy=[]\n",
    "    for i in range(len(y_pred)):\n",
    "        if y_pred[i]==y_true[i]:\n",
    "            accuracy.append(1)\n",
    "        else:\n",
    "            accuracy.append(0)\n",
    "    if normalize==True:\n",
    "        return np.mean(accuracy)\n",
    "    if normalize==False:\n",
    "        return sum(accuracy)"
   ]
  },
  {
   "cell_type": "code",
   "execution_count": 14,
   "id": "ef79e97a",
   "metadata": {},
   "outputs": [
    {
     "name": "stdout",
     "output_type": "stream",
     "text": [
      "012345678910111213141516171819202122232425262728293031323334353637383940414243444546474849"
     ]
    }
   ],
   "source": [
    "for loob in range(50):\n",
    "    df = difftables('heart.csv',200,9,13)\n",
    "    df = df.T.drop_duplicates().T\n",
    "    header = []\n",
    "    for col in df.columns:\n",
    "        header.append(col)\n",
    "    data = df.to_numpy().tolist()\n",
    "    size = len(data)\n",
    "    training_data = data[:int(size*0.7)]  \n",
    "    testing_data = data[int(size*0.7):]  \n",
    "    helper = HelperFunctions()\n",
    "    best_gain, best_question = find_best_split(training_data)\n",
    "    my_tree = build_tree(training_data)\n",
    "    y_true = []\n",
    "    y_pred = []\n",
    "    for row in testing_data:\n",
    "        actual = row[-1]\n",
    "        pred = print_leaf(classify(row, my_tree))\n",
    "        y_true.append(actual)\n",
    "        y_pred.append(list(pred.keys())[0])\n",
    "    #     print (\"Actual: %s. Predicted: %s\" %\n",
    "    #            (actual, pred))\n",
    "    with open(\"tree.py\",'a') as f:\n",
    "        f.write(str(accuracy(y_true,y_pred))+'\\n')\n",
    "    print(loob,end=\"\")\n",
    "    \n",
    "    with open(\"accuracy.txt\",'a') as f:\n",
    "        f.write(str(accuracy(y_true,y_pred))+'\\n')\n",
    "    print(loob,end=\"\")\n",
    "\n"
   ]
  },
  {
   "cell_type": "code",
   "execution_count": null,
   "id": "a60745bb",
   "metadata": {},
   "outputs": [],
   "source": []
  },
  {
   "cell_type": "code",
   "execution_count": null,
   "id": "0fbb25ac",
   "metadata": {},
   "outputs": [],
   "source": [
    "\n"
   ]
  },
  {
   "cell_type": "code",
   "execution_count": null,
   "id": "ef2d68ee",
   "metadata": {},
   "outputs": [],
   "source": []
  }
 ],
 "metadata": {
  "kernelspec": {
   "display_name": "Python 3 (ipykernel)",
   "language": "python",
   "name": "python3"
  },
  "language_info": {
   "codemirror_mode": {
    "name": "ipython",
    "version": 3
   },
   "file_extension": ".py",
   "mimetype": "text/x-python",
   "name": "python",
   "nbconvert_exporter": "python",
   "pygments_lexer": "ipython3",
   "version": "3.7.0"
  }
 },
 "nbformat": 4,
 "nbformat_minor": 5
}
